{
 "cells": [
  {
   "cell_type": "code",
   "execution_count": 1,
   "id": "4a961ba8",
   "metadata": {},
   "outputs": [],
   "source": [
    "import requests\n",
    "    \n",
    "# Create your tool functions\n",
    "def get_employee_info(employee_id: str):\n",
    "    response = requests.get(f\"http://localhost:8000/api/employee_info?employee_id={employee_id}\")\n",
    "    return response.json()\n",
    "\n",
    "def get_leave_balance(employee_id: str):\n",
    "    response = requests.get(f\"http://localhost:8000/api/leave_balance?employee_id={employee_id}\")\n",
    "    return response.json()\n",
    "\n",
    "def get_employee_violations(employee_id: str):\n",
    "    response = requests.get(f\"http://localhost:8000/api/employee_violations?employee_id={employee_id}\")\n",
    "    return response.json()"
   ]
  },
  {
   "cell_type": "code",
   "execution_count": 2,
   "id": "9ffce2cc",
   "metadata": {},
   "outputs": [
    {
     "data": {
      "text/plain": [
       "{'employee_id': 'EMP001',\n",
       " 'first_name': 'John',\n",
       " 'last_name': 'Doe',\n",
       " 'email': 'john.doe@company.com',\n",
       " 'phone': '+1-555-0123',\n",
       " 'department': 'Engineering',\n",
       " 'role': 'Senior Software Engineer',\n",
       " 'manager': 'Alice Johnson',\n",
       " 'hire_date': '2022-03-15',\n",
       " 'status': 'active',\n",
       " 'location': 'New York, NY'}"
      ]
     },
     "execution_count": 2,
     "metadata": {},
     "output_type": "execute_result"
    }
   ],
   "source": [
    "get_employee_info(\"EMP001\")"
   ]
  },
  {
   "cell_type": "code",
   "execution_count": null,
   "id": "4f44143a",
   "metadata": {},
   "outputs": [],
   "source": []
  },
  {
   "cell_type": "code",
   "execution_count": null,
   "id": "fb28460d",
   "metadata": {},
   "outputs": [],
   "source": []
  },
  {
   "cell_type": "code",
   "execution_count": null,
   "id": "fb7dda68",
   "metadata": {},
   "outputs": [],
   "source": []
  }
 ],
 "metadata": {
  "kernelspec": {
   "display_name": "adek_ai_v2",
   "language": "python",
   "name": "python3"
  },
  "language_info": {
   "codemirror_mode": {
    "name": "ipython",
    "version": 3
   },
   "file_extension": ".py",
   "mimetype": "text/x-python",
   "name": "python",
   "nbconvert_exporter": "python",
   "pygments_lexer": "ipython3",
   "version": "3.12.11"
  }
 },
 "nbformat": 4,
 "nbformat_minor": 5
}
